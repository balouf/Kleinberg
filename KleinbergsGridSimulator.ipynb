{
 "cells": [
  {
   "cell_type": "markdown",
   "metadata": {},
   "source": [
    "# Kleinberg's Grid Simulator"
   ]
  },
  {
   "cell_type": "markdown",
   "metadata": {},
   "source": [
    "The following code can be used to compute the *Expected Delivery Time* of the Greedy Routing in Kleinberg's Grid.\n",
    "\n",
    "For more details, see the paper [Kleinberg's Grid Reloaded](https://hal.inria.fr/hal-01417096).\n",
    "\n",
    "Note : the present code possesses several improvements compared to the one available in [Kleinberg's Grid Reloaded](https://hal.inria.fr/hal-01417096):\n",
    "- Arbitrary large computations are now feasible, thanks to\n",
    "    - Use of a double rejection sampling approach instead of a single one\n",
    "    - Auto-selection of integer type between **Int64**, **Int128** and **BigInt**\n",
    "- Multiple performance optimization\n",
    "- Code is now embedded in a NoteBook for better readability"
   ]
  },
  {
   "cell_type": "markdown",
   "metadata": {},
   "source": [
    "**Usage**: this notebook is designed to be included in another notebook. In the first cell you evaluate\n",
    "\n",
    "**using NBInclude**\n",
    "\n",
    "**nbinclude(\"KleinbergsGridSimulator.ipynb\")**\n",
    "\n",
    "This will give you access to the *expected_delivery_time* function (an example is provided in another NoteBook)."
   ]
  },
  {
   "cell_type": "markdown",
   "metadata": {},
   "source": [
    "Additional remarks:\n",
    "- **It is very important that KleinbergsGridSimulator is the first thing you load because it seems that using other packages interfere with the compilation, resulting in a slowdown by 50%-200%.**\n",
    "- Tested on Julia 0.5; should also work on Julia 0.4 provided you change $\\in$ by *in* in the proper places in the code."
   ]
  },
  {
   "cell_type": "markdown",
   "metadata": {},
   "source": [
    "## Multi-Typing"
   ]
  },
  {
   "cell_type": "markdown",
   "metadata": {},
   "source": [
    "It is vital that Julia knows that coordinates are integers so it can pre-compile integer addition. Yet, depending on the value of $n$, we need to operate on **Int64**, **Int128**, or even **BigInt** if one wants to compute the universe. The following function will be used to provide **Int64**, **Int128** and **BigInt** versions of other functions. It uses Julia expressions."
   ]
  },
  {
   "cell_type": "code",
   "execution_count": 1,
   "metadata": {
    "ExecuteTime": {
     "end_time": "2017-02-20T16:55:25.526781",
     "start_time": "2017-02-20T15:55:21.292Z"
    },
    "collapsed": false,
    "jupyter": {
     "outputs_hidden": false
    }
   },
   "outputs": [
    {
     "data": {
      "text/plain": [
       "multitype (generic function with 1 method)"
      ]
     },
     "execution_count": 1,
     "metadata": {},
     "output_type": "execute_result"
    }
   ],
   "source": [
    "function multitype(my_quoted_function, variable_list)\n",
    "    my_types = [:Int64, :Int128, :BigInt]\n",
    "    function explore(exp, my_type)\n",
    "        if isa(exp, Expr)\n",
    "            if length(exp.args) > 0\n",
    "                # Type of monitored variables\n",
    "                if (exp.head == :(::)) & (exp.args[1] ∈ variable_list)\n",
    "                    exp.args[2] = my_type\n",
    "                end\n",
    "                # Conversion\n",
    "                if (exp.head == :call) & (exp.args[1] ∈ my_types)\n",
    "                    exp.args[1] = my_type\n",
    "                end\n",
    "            end\n",
    "            # Recursion\n",
    "            for i ∈ exp.args\n",
    "                explore(i, my_type)\n",
    "            end\n",
    "        end\n",
    "    end\n",
    "    for typ ∈ my_types\n",
    "        explore(my_quoted_function, typ)\n",
    "        eval(my_quoted_function)\n",
    "    end\n",
    "end"
   ]
  },
  {
   "cell_type": "markdown",
   "metadata": {},
   "source": [
    "## Radius2Shortcut"
   ]
  },
  {
   "cell_type": "markdown",
   "metadata": {},
   "source": [
    "This function is just here to convert a radius into relative shortcut coordinates. As it is specified as *inlined*, the redirection cost should be nullified during compilation so we don't have to write it everywhere."
   ]
  },
  {
   "cell_type": "code",
   "execution_count": 2,
   "metadata": {
    "ExecuteTime": {
     "end_time": "2017-02-20T16:55:25.733467",
     "start_time": "2017-02-20T15:55:21.309Z"
    },
    "collapsed": false,
    "jupyter": {
     "outputs_hidden": false
    }
   },
   "outputs": [],
   "source": [
    "multitype(\n",
    "quote\n",
    "    @inline function radius2shortcut(radius::Int64)\n",
    "        angle::Int64 = rand((-2*radius +1):(2*radius))\n",
    "        return (radius - abs(angle)),  (sign(angle) * (radius - abs(radius - abs(angle))))\n",
    "    end\n",
    "end,\n",
    "[:radius, :angle]\n",
    ")"
   ]
  },
  {
   "cell_type": "markdown",
   "metadata": {},
   "source": [
    "## Radius Drawers"
   ]
  },
  {
   "cell_type": "markdown",
   "metadata": {},
   "source": [
    "The exact computation required to draw the radius depends on the value of *r*. We'll basically prepare the 5 distinct cases independently, allowing the compiler to be more optimal. The new radius drawers provide serious performance gains compared with previous versions. Let $N = 2(n-1)$ (called **max_radius** in the code)."
   ]
  },
  {
   "cell_type": "markdown",
   "metadata": {},
   "source": [
    "### *r* Less than 1"
   ]
  },
  {
   "cell_type": "markdown",
   "metadata": {},
   "source": [
    "We want to use as covering function $1/x^{r-1}=x^{1-r}$ between 1 and $N+1$.\n",
    "\n",
    "What is the value of the sum already?\n",
    "\n",
    "$$\\int_a^b x^{1-r}dx = 1/(2-r)(b^{2-r}-a^{2-r})$$"
   ]
  },
  {
   "cell_type": "markdown",
   "metadata": {},
   "source": [
    "OK, let us now compute the reverse CDF so we can have a random generator between 1 and $N+1$ that follows the correct distribution. Call $z$ the random uniform"
   ]
  },
  {
   "cell_type": "markdown",
   "metadata": {},
   "source": [
    "$$ \\int_1^y x^{1-r}dx = z \\int_1^{N+1} x^{1-r}dx $$"
   ]
  },
  {
   "cell_type": "markdown",
   "metadata": {},
   "source": [
    "$$y^{2-r} -1 = z ( (N+1)^{2-r} -1 ) $$"
   ]
  },
  {
   "cell_type": "markdown",
   "metadata": {},
   "source": [
    "$$y = \\sqrt[2-r]{z ( (N+1)^{2-r} -1 ) + 1} $$"
   ]
  },
  {
   "cell_type": "markdown",
   "metadata": {},
   "source": [
    "Then we take the floor to have a nice $k=\\lfloor y \\rfloor$. Shall we take it? Yes if we fall in a rectangle of height $k^{1-r}$\n",
    "\n",
    "$$  z/(2-r)((k+1)^{2-r}-k^{2-r}) < k^{1-r}$$\n",
    "\n",
    "$$  z((k+1)^{2-r}/k^{1-r}-k) < (2-r)$$\n",
    "\n",
    "$$  z k((1+1/k)^{2-r}-1) < (2-r)$$\n",
    "\n",
    "\n",
    "no otherwise.\n",
    "\n",
    "Let us turn that into code."
   ]
  },
  {
   "cell_type": "code",
   "execution_count": 3,
   "metadata": {
    "ExecuteTime": {
     "end_time": "2017-02-20T16:55:25.784013",
     "start_time": "2017-02-20T15:55:21.347Z"
    },
    "collapsed": false,
    "jupyter": {
     "outputs_hidden": false
    }
   },
   "outputs": [],
   "source": [
    "multitype(\n",
    "quote\n",
    "    @inline function Draw_r_smaller_than_1(n::Int64, r)\n",
    "        expo = 2-r\n",
    "        pow_max_radius = (2 * (n-1) + 1)^expo - 1\n",
    "        function generator()\n",
    "            radius = floor( (rand() * pow_max_radius + 1)^(1 / expo) )\n",
    "            while rand() * radius * ((1 + 1 / radius)^expo - 1) > expo\n",
    "                radius = floor( (rand() * pow_max_radius + 1)^(1 / expo) )\n",
    "            end\n",
    "            return radius2shortcut(Int64(radius))\n",
    "        end\n",
    "        return generator\n",
    "    end\n",
    "end,\n",
    "[:n]\n",
    ")"
   ]
  },
  {
   "cell_type": "markdown",
   "metadata": {},
   "source": [
    "### *r* Equal 1 "
   ]
  },
  {
   "cell_type": "markdown",
   "metadata": {},
   "source": [
    "A simple uniform generator, plain and easy."
   ]
  },
  {
   "cell_type": "code",
   "execution_count": 4,
   "metadata": {
    "ExecuteTime": {
     "end_time": "2017-02-20T16:55:25.799026",
     "start_time": "2017-02-20T15:55:21.354Z"
    },
    "collapsed": false,
    "jupyter": {
     "outputs_hidden": false
    }
   },
   "outputs": [],
   "source": [
    "multitype(\n",
    "quote\n",
    "    @inline function Draw_r_equal_1(n::Int64)\n",
    "        max_radius = 2*(n-1)\n",
    "        return () -> radius2shortcut(rand(1:max_radius))\n",
    "    end\n",
    "end,\n",
    "[:n]\n",
    ")"
   ]
  },
  {
   "cell_type": "markdown",
   "metadata": {},
   "source": [
    "### $r$ Between 1 and 2 "
   ]
  },
  {
   "cell_type": "markdown",
   "metadata": {},
   "source": [
    "The function is now decreasing.\n",
    "\n",
    "\n",
    "To contain the $(1/k^{r-1})$ We use the following covering function:\n",
    "- 1 between 0 and 1\n",
    "- $1/x^{r-1}$ between 1 and $N$\n"
   ]
  },
  {
   "cell_type": "markdown",
   "metadata": {},
   "source": [
    "Probability to hit 1 with this function is $\\frac{1}{1+\\frac{N^{2-r}-1}{2-r}}$."
   ]
  },
  {
   "cell_type": "markdown",
   "metadata": {},
   "source": [
    "Now, build the generator. Same computation that before yields\n",
    "\n",
    "$$y = \\sqrt[2-r]{z (N^{2-r} -1 ) + 1} $$"
   ]
  },
  {
   "cell_type": "markdown",
   "metadata": {},
   "source": [
    "Then we take the ceil to have a nice $k=\\lceil y \\rceil$. Shall we take it? Yes if\n",
    "\n",
    "$$  z/(2-r)(k^{2-r}-(k-1)^{2-r}) < k^{1-r}$$\n",
    "\n",
    "\n",
    "$$  z k(1-(1-1/k)^{2-r}) < (2-r)$$\n",
    "\n",
    "\n",
    "no otherwise (that means full reset of the drawing)."
   ]
  },
  {
   "cell_type": "code",
   "execution_count": 5,
   "metadata": {
    "ExecuteTime": {
     "end_time": "2017-02-20T16:55:25.891109",
     "start_time": "2017-02-20T15:55:21.367Z"
    },
    "collapsed": false,
    "jupyter": {
     "outputs_hidden": false
    }
   },
   "outputs": [],
   "source": [
    "multitype(\n",
    "quote\n",
    "    @inline function Draw_r_between_1_and_2(n::Int64, r)\n",
    "        expo = 2-r\n",
    "        pow_max_radius = (2 * (n-1))^expo - 1\n",
    "        p1 = 1 / (1 + pow_max_radius / expo)\n",
    "        un = Int64(1)\n",
    "        function generator()\n",
    "            while true\n",
    "                if rand() < p1\n",
    "                    return radius2shortcut(un)\n",
    "                else\n",
    "                    radius::Float64 = ceil( (rand() * pow_max_radius + 1)^(1 / expo) )\n",
    "                    if rand() * radius * (1 - (1 - 1 / radius)^expo) < expo\n",
    "                        return radius2shortcut(Int64(radius))\n",
    "                    end\n",
    "                end\n",
    "            end\n",
    "        end\n",
    "        return generator\n",
    "    end\n",
    "end,\n",
    "[:n]\n",
    ")"
   ]
  },
  {
   "cell_type": "markdown",
   "metadata": {},
   "source": [
    "### *r* Equal 2"
   ]
  },
  {
   "cell_type": "markdown",
   "metadata": {},
   "source": [
    "We use the same covering function than before, but the sum between 1 and $N$ is just $\\log(N)$, so we have $p_1 = 1/(1+\\log(N))$."
   ]
  },
  {
   "cell_type": "markdown",
   "metadata": {},
   "source": [
    "To draw a number, we first solve\n",
    "\n",
    "$$z\\log(N) = \\log(y)$$\n",
    "\n",
    "Hence\n",
    "\n",
    "$$y = N^z$$."
   ]
  },
  {
   "cell_type": "markdown",
   "metadata": {},
   "source": [
    "To accept:\n",
    "\n",
    "$$z\\log(k/(k-1))<1/k$$\n",
    "\n",
    "$$zk\\log(1+1/(k-1))<1$$"
   ]
  },
  {
   "cell_type": "code",
   "execution_count": 6,
   "metadata": {
    "ExecuteTime": {
     "end_time": "2017-02-20T16:55:25.913630",
     "start_time": "2017-02-20T15:55:21.380Z"
    },
    "collapsed": false,
    "jupyter": {
     "outputs_hidden": false
    }
   },
   "outputs": [],
   "source": [
    "multitype(\n",
    "quote\n",
    "    @inline function Draw_r_equal_2(n::Int64)\n",
    "        max_radius = 2*(n-1)\n",
    "        p1 = 1/(1+log(max_radius))\n",
    "        un = Int64(1)\n",
    "        function generator()\n",
    "            while true\n",
    "                if rand() < p1\n",
    "                    return radius2shortcut(un)\n",
    "                else\n",
    "                    radius::Float64 = ceil(max_radius^rand())\n",
    "                    if rand()*radius*log(1+1/(radius-1)) < 1\n",
    "                        return radius2shortcut(Int64(radius))\n",
    "                    end\n",
    "                end\n",
    "            end\n",
    "        end\n",
    "        return generator\n",
    "    end\n",
    "end,\n",
    "[:n]\n",
    ")"
   ]
  },
  {
   "cell_type": "markdown",
   "metadata": {},
   "source": [
    "### *r* More than 2"
   ]
  },
  {
   "cell_type": "markdown",
   "metadata": {},
   "source": [
    "This is essentially the same thing than for $1<r<2$, except that *expo* has now opposite sign. To avoid confusing the compilation, let us rewrite this the proper way."
   ]
  },
  {
   "cell_type": "markdown",
   "metadata": {},
   "source": [
    "The integral between 1 and $N$ is $\\frac{1-N^{2-r}}{r-2}$."
   ]
  },
  {
   "cell_type": "markdown",
   "metadata": {},
   "source": [
    "Probability to hit 1 with this function is $\\frac{1}{1+\\frac{1-N^{2-r}}{r-2}}$."
   ]
  },
  {
   "cell_type": "markdown",
   "metadata": {},
   "source": [
    "Now, build the generator. Same computation that before yields\n",
    "\n",
    "$$y = \\sqrt[2-r]{z (N^{2-r} -1 ) + 1} $$"
   ]
  },
  {
   "cell_type": "markdown",
   "metadata": {},
   "source": [
    "Then we take the ceil to have a nice $k=\\lceil y \\rceil$. Shall we take it? Yes if\n",
    "\n",
    "$$  z/(r-2)((k-1)^{2-r}-k^{2-r}) < k^{1-r}$$\n",
    "\n",
    "\n",
    "$$  z k((1-1/k)^{2-r}-1) < (r-2)$$\n",
    "\n",
    "$$  z k((1+1/(k-1))^{r-2}-1) < (r-2)$$\n",
    "\n",
    "no otherwise (that means full reset of the drawing)."
   ]
  },
  {
   "cell_type": "code",
   "execution_count": 7,
   "metadata": {
    "ExecuteTime": {
     "end_time": "2017-02-20T16:55:25.938152",
     "start_time": "2017-02-20T15:55:21.395Z"
    },
    "collapsed": false,
    "jupyter": {
     "outputs_hidden": false
    }
   },
   "outputs": [],
   "source": [
    "multitype(\n",
    "quote\n",
    "    @inline function Draw_r_greater_than_2(n::Int64, r)\n",
    "        expo = r-2\n",
    "        pow_max_radius = 1 / (2*(n-1))^expo - 1\n",
    "        p1 = 1 / (1 - pow_max_radius / expo)\n",
    "        un = Int64(1)\n",
    "        function generator()\n",
    "            while true\n",
    "                if rand() < p1\n",
    "                    return radius2shortcut(un)\n",
    "                else\n",
    "                    radius::Float64 = ceil( 1 / (rand() * pow_max_radius + 1)^(1 / expo))\n",
    "                    if rand() * radius * ((1 + 1 / (radius - 1))^expo - 1) < expo\n",
    "                        return radius2shortcut(Int64(radius))\n",
    "                    end\n",
    "                end\n",
    "            end\n",
    "        end\n",
    "        return generator\n",
    "    end\n",
    "end,\n",
    "[:n]\n",
    ")"
   ]
  },
  {
   "cell_type": "markdown",
   "metadata": {},
   "source": [
    "## Main Grid Walking"
   ]
  },
  {
   "cell_type": "markdown",
   "metadata": {},
   "source": [
    "The core algorithm with dynamic rejection sampling inside. Mostly untouched since [Kleinberg's Grid Reloaded](https://hal.inria.fr/hal-01417096), except that it has been heavily typed to be sure that Julia JIT compiler does not make any mistake."
   ]
  },
  {
   "cell_type": "code",
   "execution_count": 8,
   "metadata": {
    "ExecuteTime": {
     "end_time": "2017-02-20T16:55:25.992701",
     "start_time": "2017-02-20T15:55:21.402Z"
    },
    "collapsed": false,
    "jupyter": {
     "outputs_hidden": false
    }
   },
   "outputs": [],
   "source": [
    "multitype(\n",
    "quote\n",
    "    @inline function edt_gen(gen, n::Int64, p::Int64, q::Int64, R::Int64)    \n",
    "        steps::Int64 = 0\n",
    "        for i ∈ 1:R\n",
    "            s_x::Int64, s_y::Int64, a_x::Int64, a_y::Int64 = tuple(rand(0:(n-1), 4)...)\n",
    "            d = abs(s_x - a_x) + abs(s_y - a_y)\n",
    "            while d>0\n",
    "                d_s::Int64, sh_x::Int64, sh_y::Int64 = 2*n, -1, -1\n",
    "                for j ∈ 1:q\n",
    "                    c_s::Int64, ch_x::Int64, ch_y::Int64 = 2*n, -1, -1\n",
    "                    while (ch_x < 0 || ch_x >= n || ch_y < 0 || ch_y >= n)\n",
    "                        r_x::Int64, r_y::Int64 = gen()\n",
    "                        ch_x, ch_y = s_x + r_x,  s_y + r_y\n",
    "                    end\n",
    "                    c_s = abs(a_x - ch_x) + abs(a_y - ch_y)\n",
    "                    if c_s < d_s\n",
    "                        d_s, sh_x, sh_y = c_s, ch_x, ch_y\n",
    "                    end  \n",
    "                end\n",
    "                if d_s < d-p\n",
    "                    d, s_x, s_y  = d_s, sh_x, sh_y\n",
    "                else\n",
    "                    d = d - p; Δx = min(p,abs(a_x - s_x)); Δy = p - Δx\n",
    "                    s_x += Δx*sign(a_x - s_x); s_y += Δy*sign(a_y - s_y)\n",
    "                end\n",
    "                steps += 1    \n",
    "            end\n",
    "        end\n",
    "        edt_value::Float64 = steps/R;    \n",
    "        return edt_value\n",
    "    end\n",
    "end,\n",
    "[:n, :s_x, :s_y, :a_x, :a_y, :d_s, :sh_x, :sh_y, :c_s, :ch_x, :ch_y, :r_x, :r_y]\n",
    ")"
   ]
  },
  {
   "cell_type": "markdown",
   "metadata": {},
   "source": [
    "## Expected Delivery Time"
   ]
  },
  {
   "cell_type": "markdown",
   "metadata": {},
   "source": [
    "We essentially put all pieces above together.\n",
    "- Cast $n$ properly (Int64/Int128/BigInt) to let the polymorphism work. Note that the boundaries are $2^{61}$ and $2^{125}$. The reason is that we have $2(n-1)$ for the virtual ball, then $4i$ for the angle. In the end, that's a $2^3-\\epsilon$ factor in worst case scenario. Also, we use signed integers as shortcuts can be negative.\n",
    "- Select the proper drawer.\n",
    "- Launch core algorithm"
   ]
  },
  {
   "cell_type": "code",
   "execution_count": 9,
   "metadata": {
    "ExecuteTime": {
     "end_time": "2017-02-20T16:55:26.011218",
     "start_time": "2017-02-20T15:55:21.413Z"
    },
    "collapsed": false,
    "jupyter": {
     "outputs_hidden": false
    }
   },
   "outputs": [
    {
     "data": {
      "text/plain": [
       "expected_delivery_time (generic function with 6 methods)"
      ]
     },
     "execution_count": 9,
     "metadata": {},
     "output_type": "execute_result"
    }
   ],
   "source": [
    "function expected_delivery_time(n, r = 2, p = 1, q = 1, R = 10000, stats = true)\n",
    "    tic()\n",
    "    deux = Int128(2)\n",
    "    if n ≤ 2^61\n",
    "        n = Int64(n)\n",
    "    elseif n ≤ deux^125\n",
    "        n = Int128(n)\n",
    "    else n = BigInt(n)\n",
    "    end\n",
    "    if r < 1\n",
    "        gen = Draw_r_smaller_than_1(n, r)\n",
    "    elseif r == 1\n",
    "        gen = Draw_r_equal_1(n)\n",
    "    elseif r < 2\n",
    "        gen = Draw_r_between_1_and_2(n, r)\n",
    "    elseif r == 2\n",
    "        gen = Draw_r_equal_2(n)\n",
    "    else\n",
    "        gen = Draw_r_greater_than_2(n, r)\n",
    "    end\n",
    "    edt_value = edt_gen(gen, n, p, q, R)\n",
    "    if stats\n",
    "        println(\"Expected Delivery Time: $(round(edt_value,2))\")\n",
    "        println(\"computed in $(round(toq(),2)) s\")\n",
    "        println(\"Parameters:  n = $n, r = $r, p = $p, q = $q, $R runs\")\n",
    "    end\n",
    "    return edt_value\n",
    "end"
   ]
  },
  {
   "cell_type": "markdown",
   "metadata": {},
   "source": [
    "# Legacy algorithms"
   ]
  },
  {
   "cell_type": "markdown",
   "metadata": {},
   "source": [
    "## Bulk"
   ]
  },
  {
   "cell_type": "markdown",
   "metadata": {},
   "source": [
    "This is essentially the version presented in [Kleinberg's Grid Reloaded](https://hal.inria.fr/hal-01417096), adapted to the common framework of this version."
   ]
  },
  {
   "cell_type": "code",
   "execution_count": 10,
   "metadata": {
    "ExecuteTime": {
     "end_time": "2017-02-20T16:55:26.093793",
     "start_time": "2017-02-20T15:55:21.422Z"
    },
    "collapsed": false,
    "init_cell": false,
    "jupyter": {
     "outputs_hidden": false
    }
   },
   "outputs": [
    {
     "data": {
      "text/plain": [
       "BulkShortcut (generic function with 1 method)"
      ]
     },
     "execution_count": 10,
     "metadata": {},
     "output_type": "execute_result"
    }
   ],
   "source": [
    "using StatsBase\n",
    "@inline function BulkShortcut(n, r)\n",
    "    bulk_size = min(n,2^23)\n",
    "    probas = weights((1:(2*n-2)).^(1-Float64(r)))\n",
    "    radii::Vector{Int64} = sample(1:(2*n-2), probas, bulk_size)\n",
    "    index_radii::Int64 = 0\n",
    "    function ShortcutDrawer()\n",
    "        if index_radii == bulk_size\n",
    "            sample!(1:(2*n-2), probas, radii)\n",
    "            index_radii = 1\n",
    "        end\n",
    "        index_radii += 1\n",
    "        return radius2shortcut(radii[index_radii])\n",
    "    end\n",
    "    return ShortcutDrawer\n",
    "end"
   ]
  },
  {
   "cell_type": "code",
   "execution_count": 11,
   "metadata": {
    "ExecuteTime": {
     "end_time": "2017-02-20T16:55:26.106304",
     "start_time": "2017-02-20T15:55:21.427Z"
    },
    "collapsed": false,
    "init_cell": false,
    "jupyter": {
     "outputs_hidden": false
    }
   },
   "outputs": [
    {
     "data": {
      "text/plain": [
       "expected_delivery_time_bulk (generic function with 5 methods)"
      ]
     },
     "execution_count": 11,
     "metadata": {},
     "output_type": "execute_result"
    }
   ],
   "source": [
    "function expected_delivery_time_bulk(n, r = 2, p = 1, q = 1, R = 10000)\n",
    "    gen = BulkShortcut(n, r)\n",
    "    return edt_gen(gen, n, p, q, R)\n",
    "end"
   ]
  },
  {
   "cell_type": "markdown",
   "metadata": {},
   "source": [
    "## Alias"
   ]
  },
  {
   "cell_type": "markdown",
   "metadata": {},
   "source": [
    "An intermediate, unpublished approach, based on [Vose's Alias method](http://www.keithschwarz.com/darts-dice-coins/). Better than Bulk, slightly faster than using *double rejection sampling* for some parameters, but unable to scale properly."
   ]
  },
  {
   "cell_type": "code",
   "execution_count": 12,
   "metadata": {
    "ExecuteTime": {
     "end_time": "2017-02-20T16:55:26.723862",
     "start_time": "2017-02-20T15:55:21.437Z"
    },
    "collapsed": false,
    "init_cell": false,
    "jupyter": {
     "outputs_hidden": false
    }
   },
   "outputs": [],
   "source": [
    "function InitiateAlias(n = 1000, r = 2)\n",
    "    nprob = (1:(2*n-2)).^(1-Float64(r))\n",
    "  nprob *= (2*n-2)/sum(nprob)\n",
    "  Alias = zeros(Int64, (2*n-2))\n",
    "  Prob = zeros(2*n-2)\n",
    "  if r>=1\n",
    "    thres = findfirst(nprob.<1)\n",
    "    g = 1\n",
    "    Small = 2*n-2\n",
    "    l = 2*n-2\n",
    "    while g<thres && Small>=thres\n",
    "      Prob[l] = nprob[l]\n",
    "      Alias[l] = g\n",
    "      nprob[g] += nprob[l] - 1\n",
    "      if nprob[g] < 1\n",
    "        l = g\n",
    "        g += 1\n",
    "      else\n",
    "        Small -= 1\n",
    "        l = Small\n",
    "      end\n",
    "    end\n",
    "  else\n",
    "    thres = findfirst(nprob.>1)\n",
    "    g = 2*n-2\n",
    "    Small = 1\n",
    "    l = 1\n",
    "    while g>=thres && Small<thres\n",
    "      Prob[l] = nprob[l]\n",
    "      Alias[l] = g\n",
    "      nprob[g] += nprob[l] - 1\n",
    "      if nprob[g] < 1\n",
    "        l = g\n",
    "        g -= 1\n",
    "      else\n",
    "        Small += 1\n",
    "        l = Small\n",
    "      end\n",
    "    end\n",
    "  end\n",
    "  Prob[Prob .== 0] = 1\n",
    "  return Prob, Alias\n",
    "end\n",
    "\n",
    "InitiateAlias(10,2);"
   ]
  },
  {
   "cell_type": "code",
   "execution_count": 13,
   "metadata": {
    "ExecuteTime": {
     "end_time": "2017-02-20T16:55:26.760395",
     "start_time": "2017-02-20T15:55:21.442Z"
    },
    "collapsed": false,
    "init_cell": false,
    "jupyter": {
     "outputs_hidden": false
    }
   },
   "outputs": [],
   "source": [
    "@inline function AliasShortcut(n, r)\n",
    "    Prob::Vector{Float64}, Alias::Vector{Int64} = InitiateAlias(n, r)\n",
    "    function ShortcutDrawer()\n",
    "        i = rand(1:(2*(n-1)))\n",
    "        if rand()<Prob[i]\n",
    "            return radius2shortcut(i)\n",
    "        else\n",
    "            return radius2shortcut(Alias[i])\n",
    "        end\n",
    "    end\n",
    "    return ShortcutDrawer\n",
    "end\n",
    "AliasShortcut(10, 2);"
   ]
  },
  {
   "cell_type": "code",
   "execution_count": 14,
   "metadata": {
    "ExecuteTime": {
     "end_time": "2017-02-20T16:55:26.768402",
     "start_time": "2017-02-20T15:55:21.451Z"
    },
    "collapsed": false,
    "init_cell": false,
    "jupyter": {
     "outputs_hidden": false
    }
   },
   "outputs": [],
   "source": [
    "function expected_delivery_time_alias(n = 1000, r = 2, p = 1, q = 1, R = 10000)\n",
    "    gen = AliasShortcut(n, r)\n",
    "    return edt_gen(gen, n, p, q, R)\n",
    "end;"
   ]
  }
 ],
 "metadata": {
  "anaconda-cloud": {},
  "kernelspec": {
   "display_name": "Julia 1.9.4",
   "language": "julia",
   "name": "julia-1.9"
  },
  "language_info": {
   "file_extension": ".jl",
   "mimetype": "application/julia",
   "name": "julia",
   "version": "1.9.4"
  },
  "nav_menu": {},
  "toc": {
   "navigate_menu": true,
   "number_sections": false,
   "sideBar": true,
   "threshold": "3",
   "toc_cell": false,
   "toc_section_display": "block",
   "toc_window_display": true
  }
 },
 "nbformat": 4,
 "nbformat_minor": 4
}
